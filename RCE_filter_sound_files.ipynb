{
 "cells": [
  {
   "cell_type": "code",
   "execution_count": null,
   "metadata": {},
   "outputs": [],
   "source": [
    "import os\n",
    "import shutil\n",
    "from pathlib import Path\n",
    "from ipyfilechooser import FileChooser\n",
    "from IPython.display import display\n",
    "\n",
    "# === Step 1: Folder chooser ===\n",
    "folder_chooser = FileChooser()\n",
    "folder_chooser.title = '<b>Select your MP3 folder</b>'\n",
    "folder_chooser.show_only_dirs = True  # show only directories\n",
    "display(folder_chooser)\n",
    "\n",
    "print(\"Select a folder, then run the next cell.\")\n"
   ]
  },
  {
   "cell_type": "code",
   "execution_count": null,
   "metadata": {},
   "outputs": [],
   "source": [
    "# === Step 2: Process selected folder ===\n",
    "selected_folder = folder_chooser.selected_path\n",
    "if not selected_folder:\n",
    "    raise ValueError(\"No folder selected. Please select a folder above and re-run this cell.\")\n",
    "\n",
    "folder_path = Path(selected_folder)\n",
    "print(f\"Selected folder: {folder_path}\")\n",
    "\n",
    "# Keywords to match in file names\n",
    "keywords = [\"app_gvn\", \"app_new\", \"ung_gvn\", \"ung_new\"]\n",
    "\n",
    "# Create subfolder \"exprmt\" if it doesn't exist\n",
    "exprmt_folder = folder_path / \"exprmt\"\n",
    "exprmt_folder.mkdir(exist_ok=True)\n",
    "\n",
    "# Loop through .mp3 files and copy matching ones\n",
    "copied_files = []\n",
    "for file in folder_path.glob(\"*.mp3\"):\n",
    "    if any(keyword in file.name for keyword in keywords):\n",
    "        shutil.copy2(file, exprmt_folder)\n",
    "        copied_files.append(file.name)\n",
    "\n",
    "# Summary\n",
    "print(f\"Copied {len(copied_files)} file(s) to {exprmt_folder}\")\n",
    "if copied_files:\n",
    "    print(\"Files copied:\")\n",
    "    for f in copied_files:\n",
    "        print(\"  -\", f)\n",
    "else:\n",
    "    print(\"No matching files found.\")\n"
   ]
  }
 ],
 "metadata": {
  "language_info": {
   "name": "python"
  }
 },
 "nbformat": 4,
 "nbformat_minor": 2
}
