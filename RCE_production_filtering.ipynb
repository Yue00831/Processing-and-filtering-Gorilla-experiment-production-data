{
 "cells": [
  {
   "cell_type": "code",
   "execution_count": 1,
   "metadata": {},
   "outputs": [
    {
     "data": {
      "application/vnd.jupyter.widget-view+json": {
       "model_id": "721e09a221c348d48c398bce39e8d586",
       "version_major": 2,
       "version_minor": 0
      },
      "text/plain": [
       "FileChooser(path='/Users/liyue/Documents/PhD@Purdue/my_projects/RCE_project_EF_YL/data_updating!', filename=''…"
      ]
     },
     "metadata": {},
     "output_type": "display_data"
    },
    {
     "name": "stdout",
     "output_type": "stream",
     "text": [
      "Select a file, then run the next cell.\n"
     ]
    }
   ],
   "source": [
    "import pandas as pd\n",
    "from ipyfilechooser import FileChooser\n",
    "from IPython.display import display\n",
    "from pathlib import Path\n",
    "\n",
    "# --- File chooser (run this cell first) ---\n",
    "file_chooser = FileChooser()\n",
    "file_chooser.title = '<b>Select your Excel file</b>'\n",
    "file_chooser.filter_pattern = '*.xlsx'\n",
    "display(file_chooser)\n",
    "\n",
    "print(\"Select a file, then run the next cell.\")\n"
   ]
  },
  {
   "cell_type": "code",
   "execution_count": 2,
   "metadata": {},
   "outputs": [
    {
     "name": "stdout",
     "output_type": "stream",
     "text": [
      "Done. Wrote 32 rows to 'list1' and 0 rows to 'list2'.\n",
      "Saved to: /Users/liyue/Documents/PhD@Purdue/my_projects/RCE_project_EF_YL/data_updating!/data_exp_187289-v2_13860231_pilot01/data_exp_187289-v2_task-hdd6-13860231_filtered.xlsx\n"
     ]
    }
   ],
   "source": [
    "# --- Run this cell AFTER selecting a file ---\n",
    "file_path = file_chooser.selected\n",
    "if not file_path:\n",
    "    raise ValueError(\"No file selected. Please select a file above and re-run this cell.\")\n",
    "\n",
    "input_path = Path(file_path)\n",
    "df = pd.read_excel(input_path)\n",
    "\n",
    "# --- Helper: Excel letter (\"AC\", \"BO\", etc.) -> zero-based column index ---\n",
    "def col_letter_to_index(col_letter: str) -> int:\n",
    "    col_letter = col_letter.strip().upper()\n",
    "    n = 0\n",
    "    for ch in col_letter:\n",
    "        n = n * 26 + (ord(ch) - ord('A') + 1)\n",
    "    return n - 1  # zero-based\n",
    "\n",
    "# --- Helper: select columns by Excel letters, preserving order ---\n",
    "def select_cols_by_letters(df_in: pd.DataFrame, letters) -> pd.DataFrame:\n",
    "    idxs = [col_letter_to_index(l) for l in letters]\n",
    "    max_ok = df_in.shape[1] - 1\n",
    "    for ltr, idx in zip(letters, idxs):\n",
    "        if idx > max_ok:\n",
    "            raise IndexError(f\"Column {ltr} (index {idx}) is out of range for this file.\")\n",
    "    return df_in.iloc[:, idxs]\n",
    "\n",
    "# Step 1: keep only rows where column BO contains \"exprmt\" (case-insensitive, substring)\n",
    "bo_idx = col_letter_to_index(\"BO\")\n",
    "df_step1 = df[df.iloc[:, bo_idx].astype(str).str.contains(\"exprmt\", na=False, case=False)]\n",
    "\n",
    "# Step 2: from step1, keep rows where AZ == \"object_214\"\n",
    "az_idx = col_letter_to_index(\"AZ\")\n",
    "df_step2 = df_step1[df_step1.iloc[:, az_idx].astype(str) == \"object-214\"]\n",
    "\n",
    "# Step 3: from step2, test whether AC includes \"list1\" or \"list2\" (case-insensitive, substring)\n",
    "ac_idx = col_letter_to_index(\"AC\")\n",
    "ac_series = df_step2.iloc[:, ac_idx].astype(str)\n",
    "mask_list1 = ac_series.str.contains(\"list1\", na=False, case=False)\n",
    "mask_list2 = ac_series.str.contains(\"list2\", na=False, case=False)\n",
    "\n",
    "# Step 4: output with different column sets depending on AC\n",
    "cols_for_list1 = [\"AC\", \"AL\", \"AZ\", \"BE\", \"BF\", \"BG\", \"BH\", \"BQ\", \"BS\"]\n",
    "cols_for_list2 = [\"AC\", \"AL\", \"AZ\", \"BJ\", \"BK\", \"BL\", \"BM\", \"BR\", \"BT\"]\n",
    "\n",
    "out_list1 = select_cols_by_letters(df_step2[mask_list1], cols_for_list1)\n",
    "out_list2 = select_cols_by_letters(df_step2[mask_list2], cols_for_list2)\n",
    "\n",
    "# Save next to the input with an affix \"_filtered\"\n",
    "output_path = input_path.with_name(f\"{input_path.stem}_filtered.xlsx\")\n",
    "\n",
    "with pd.ExcelWriter(output_path) as writer:\n",
    "    out_list1.to_excel(writer, index=False, sheet_name=\"list1\")\n",
    "    out_list2.to_excel(writer, index=False, sheet_name=\"list2\")\n",
    "\n",
    "print(f\"Done. Wrote {len(out_list1)} rows to 'list1' and {len(out_list2)} rows to 'list2'.\")\n",
    "print(f\"Saved to: {output_path}\")\n"
   ]
  }
 ],
 "metadata": {
  "kernelspec": {
   "display_name": "base",
   "language": "python",
   "name": "python3"
  },
  "language_info": {
   "codemirror_mode": {
    "name": "ipython",
    "version": 3
   },
   "file_extension": ".py",
   "mimetype": "text/x-python",
   "name": "python",
   "nbconvert_exporter": "python",
   "pygments_lexer": "ipython3",
   "version": "3.9.13"
  }
 },
 "nbformat": 4,
 "nbformat_minor": 2
}
